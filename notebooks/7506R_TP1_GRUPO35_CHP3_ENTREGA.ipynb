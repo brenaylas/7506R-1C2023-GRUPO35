{
 "cells": [
  {
   "attachments": {},
   "cell_type": "markdown",
   "metadata": {},
   "source": [
    "# **Trabajo Práctico 1: Reservas de Hotel**\n",
    "## Checkpoint 3\n",
    "**Grupo 35**\n",
    "\n",
    "Integrantes:\n",
    "- Aylas, Brenda\n",
    "- Cori, William\n",
    "- Nazario, Ingrith"
   ]
  },
  {
   "cell_type": "code",
   "execution_count": 41,
   "metadata": {},
   "outputs": [],
   "source": [
    "import dill\n",
    "import numpy as np\n",
    "import pandas as pd\n",
    "import seaborn as sns\n",
    "import matplotlib.pyplot as plt\n",
    "\n",
    "from category_encoders import OneHotEncoder\n",
    "from datetime import datetime\n",
    "from sklearn.compose import ColumnTransformer\n",
    "from sklearn.model_selection import GridSearchCV\n",
    "from sklearn.pipeline import Pipeline\n",
    "from pathlib import Path\n",
    "from sklearn.ensemble import RandomForestClassifier\n",
    "\n",
    "from sklearn.preprocessing import MinMaxScaler, StandardScaler\n",
    "from sklearn.metrics import classification_report, confusion_matrix\n",
    "from sklearn.model_selection import train_test_split\n",
    "from sklearn.neighbors import KNeighborsClassifier\n",
    "from sklearn.svm import SVC\n",
    "from sklearn.decomposition import PCA\n",
    "\n",
    "RANDOM_SEED = 23\n",
    "pd.set_option('display.max_columns', None)"
   ]
  },
  {
   "attachments": {},
   "cell_type": "markdown",
   "metadata": {},
   "source": [
    "### Carga de datos\n",
    "\n",
    "Cargo el dataset de train procesado en el primer checkpoint y lo subdivido en train y test para poder calcular la matriz de confusion.\n"
   ]
  },
  {
   "cell_type": "code",
   "execution_count": 2,
   "metadata": {},
   "outputs": [],
   "source": [
    "hotels_train = pd.read_csv(\"../data/hotels_processed.csv\")\n",
    "\n",
    "x = hotels_train.drop(\"is_canceled\", axis=1)\n",
    "y = hotels_train.filter([\"is_canceled\"]).is_canceled\n",
    "\n",
    "x_train, x_test, y_train, y_test = train_test_split(x, y, test_size=0.20, random_state=RANDOM_SEED)"
   ]
  },
  {
   "attachments": {},
   "cell_type": "markdown",
   "metadata": {},
   "source": [
    "Info de columnas"
   ]
  },
  {
   "cell_type": "code",
   "execution_count": 18,
   "metadata": {},
   "outputs": [],
   "source": [
    "one_hot_encoder_cols = [\n",
    "  'hotel',\n",
    "  'arrival_date_month',\n",
    "  'arrival_date_year',\n",
    "  \"arrival_date_day_of_month\",\n",
    "  \"arrival_date_week_number\",\n",
    "  'meal',\n",
    "  'market_segment',\n",
    "  'distribution_channel',\n",
    "  'reserved_room_type',\n",
    "  'assigned_room_type',\n",
    "  'deposit_type',\n",
    "  'customer_type',\n",
    "  'country',\n",
    "  'is_repeated_guest',\n",
    "  'agent'\n",
    "]\n",
    "\n",
    "numerical_cols = [\n",
    "  \"lead_time\",\n",
    "  \"stays_in_weekend_nights\",\n",
    "  \"stays_in_week_nights\",\n",
    "  \"adults\",\n",
    "  \"children\",\n",
    "  \"babies\",\n",
    "  \"previous_cancellations\",\n",
    "  \"previous_bookings_not_canceled\",\n",
    "  \"booking_changes\",\n",
    "  \"adr\",\n",
    "  \"days_in_waiting_list\",\n",
    "  \"required_car_parking_spaces\",\n",
    "  \"total_of_special_requests\"\n",
    "]\n",
    "\n",
    "ignored_cols = [\n",
    "  \"reservation_status_date\",\n",
    "  \"id\",\n",
    "  \"company\",\n",
    "]\n",
    "\n",
    "def metrics(y_pred, y_test):\n",
    "  print(classification_report(y_test, y_pred))\n",
    "  cm = confusion_matrix(y_test, y_pred)\n",
    "  sns.heatmap(cm, cmap='Blues', annot=True, fmt='g')\n",
    "  plt.xlabel('Predicted')\n",
    "  plt.ylabel('True')\n",
    "\n",
    "def drop_colums(X: pd.DataFrame):\n",
    "  return [col for col in X.columns if col in ignored_cols]"
   ]
  },
  {
   "attachments": {},
   "cell_type": "markdown",
   "metadata": {},
   "source": [
    "KNN"
   ]
  },
  {
   "cell_type": "code",
   "execution_count": 23,
   "metadata": {},
   "outputs": [],
   "source": [
    "\n",
    "column_trans = ColumnTransformer(\n",
    "  transformers=(\n",
    "    (\"min_max_scaler\", MinMaxScaler(), numerical_cols),\n",
    "    (\"one_hot_encoder\", OneHotEncoder(cols=one_hot_encoder_cols), one_hot_encoder_cols),\n",
    "    (\"drop\", \"drop\", drop_colums)\n",
    "  ),\n",
    "  remainder=\"passthrough\"\n",
    ")\n",
    "\n",
    "knn_pipeline = Pipeline(\n",
    "  steps=[\n",
    "    (\"transformer\", column_trans),\n",
    "    (\"model\", KNeighborsClassifier())\n",
    "  ])\n"
   ]
  },
  {
   "attachments": {},
   "cell_type": "markdown",
   "metadata": {},
   "source": [
    "Busqueda de parametros"
   ]
  },
  {
   "cell_type": "code",
   "execution_count": 33,
   "metadata": {},
   "outputs": [
    {
     "name": "stdout",
     "output_type": "stream",
     "text": [
      "Best params: {'model__n_neighbors': 5}\n",
      "F1 score: 0.783950795366614\n"
     ]
    }
   ],
   "source": [
    "params = {\n",
    "  'model__n_neighbors': range(1,10),\n",
    "  # 'model__weights':['distance','uniform'],\n",
    "  # 'model__algorithm':['ball_tree', 'kd_tree', 'brute'],\n",
    "  # 'model__metric':['euclidean','manhattan','chebyshev']\n",
    "}\n",
    "\n",
    "grid_search = GridSearchCV(\n",
    "  estimator=knn_pipeline,\n",
    "  param_grid=params,\n",
    "  scoring=\"f1\",\n",
    "  n_jobs=-3,\n",
    "  cv=5\n",
    ")\n",
    "\n",
    "grid_search.fit(x_train, y_train)\n",
    "\n",
    "print(f\"Best params: {grid_search.best_params_}\")\n",
    "print(f\"F1 score: {grid_search.best_score_}\")"
   ]
  },
  {
   "cell_type": "code",
   "execution_count": 39,
   "metadata": {},
   "outputs": [
    {
     "name": "stdout",
     "output_type": "stream",
     "text": [
      "              precision    recall  f1-score   support\n",
      "\n",
      "           0       0.81      0.73      0.77      6038\n",
      "           1       0.76      0.83      0.80      6217\n",
      "\n",
      "    accuracy                           0.78     12255\n",
      "   macro avg       0.78      0.78      0.78     12255\n",
      "weighted avg       0.78      0.78      0.78     12255\n",
      "\n"
     ]
    },
    {
     "data": {
      "image/png": "[encoded data removed]",
      "text/plain": [
       "<Figure size 640x480 with 2 Axes>"
      ]
     },
     "metadata": {},
     "output_type": "display_data"
    }
   ],
   "source": [
    "y_predicted = grid_search.best_estimator_.predict(x_test)\n",
    "\n",
    "metrics(y_predicted, y_test)"
   ]
  },
  {
   "attachments": {},
   "cell_type": "markdown",
   "metadata": {},
   "source": [
    "### SVM"
   ]
  },
  {
   "cell_type": "code",
   "execution_count": 42,
   "metadata": {},
   "outputs": [],
   "source": [
    "column_trans = ColumnTransformer(\n",
    "  transformers=(\n",
    "    (\"StandardScaler\", StandardScaler(), numerical_cols),\n",
    "    (\"one_hot_encoder\", OneHotEncoder(cols=one_hot_encoder_cols), one_hot_encoder_cols),\n",
    "    (\"drop\", \"drop\", drop_colums)\n",
    "  ),\n",
    "  remainder=\"passthrough\"\n",
    ")\n",
    "\n",
    "svc_pipeline = Pipeline(\n",
    "  steps=[\n",
    "    (\"transformer\", column_trans),\n",
    "    (\"pca\", PCA(n_components=60)),\n",
    "    (\"model\", SVC())\n",
    "  ])"
   ]
  },
  {
   "attachments": {},
   "cell_type": "markdown",
   "metadata": {},
   "source": [
    "Calculo n_components"
   ]
  },
  {
   "cell_type": "code",
   "execution_count": null,
   "metadata": {},
   "outputs": [],
   "source": [
    "def pca_components():\n",
    "  x_train_scaled = column_trans.fit_transform(x_train)\n",
    "  pca = PCA()\n",
    "  pca.fit(x_train_scaled)\n",
    "  \n",
    "  df = pd.DataFrame({\n",
    "    \"n_components\": range(1,len(pca.explained_variance_ratio_)+1),\n",
    "    \"explained_variance\": np.cumsum(pca.explained_variance_ratio_)\n",
    "  })\n",
    "  display(df[(df[\"explained_variance\"] > 0.89) & (df[\"explained_variance\"] < 0.92)])\n",
    "\n",
    "pca_components()"
   ]
  },
  {
   "cell_type": "code",
   "execution_count": null,
   "metadata": {},
   "outputs": [],
   "source": [
    "params = [{\n",
    "  'model__kernel': [\"linear\"],\n",
    "  \"model__C\": range(3, 7)\n",
    "}, {\n",
    "  'model__kernel': [\"poly\"],\n",
    "  \"model__C\": [5],\n",
    "  \"model__degree\": range(9, 12),\n",
    "  \"model__gamma\": range(9, 12),\n",
    "  \"model__coef0\": range(9, 12)\n",
    "}, {\n",
    "  \"model__kernel\": ['rbf'],\n",
    "  \"model__C\": [5],\n",
    "  \"model__gamma\": [10, 12]\n",
    "}]\n",
    "\n",
    "grid_search = GridSearchCV(\n",
    "  estimator=svc_pipeline,\n",
    "  param_grid=params,\n",
    "  scoring=\"f1\",\n",
    "  n_jobs=-1,\n",
    "  cv=5\n",
    ")\n",
    "\n",
    "grid_search.fit(x_train, y_train)\n",
    "\n",
    "print(f\"Best params: {grid_search.best_params_}\")\n",
    "print(f\"F1 score: {grid_search.best_score_}\")"
   ]
  },
  {
   "cell_type": "code",
   "execution_count": null,
   "metadata": {},
   "outputs": [],
   "source": []
  }
 ],
 "metadata": {
  "kernelspec": {
   "display_name": "base",
   "language": "python",
   "name": "python3"
  },
  "language_info": {
   "codemirror_mode": {
    "name": "ipython",
    "version": 3
   },
   "file_extension": ".py",
   "mimetype": "text/x-python",
   "name": "python",
   "nbconvert_exporter": "python",
   "pygments_lexer": "ipython3",
   "version": "3.10.10"
  },
  "orig_nbformat": 4
 },
 "nbformat": 4,
 "nbformat_minor": 2
}
