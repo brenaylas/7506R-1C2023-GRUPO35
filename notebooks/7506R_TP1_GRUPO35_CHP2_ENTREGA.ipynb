{
 "cells": [
  {
   "attachments": {},
   "cell_type": "markdown",
   "metadata": {},
   "source": [
    "### Cargando Data procesada"
   ]
  },
  {
   "cell_type": "code",
   "execution_count": 1,
   "metadata": {},
   "outputs": [],
   "source": [
    "import io\n",
    "import pandas as pd"
   ]
  },
  {
   "cell_type": "code",
   "execution_count": 2,
   "metadata": {},
   "outputs": [],
   "source": [
    "path= \"../data/hotels_processed.csv\"\n",
    "df = pd.read_csv(path)"
   ]
  },
  {
   "cell_type": "code",
   "execution_count": 3,
   "metadata": {},
   "outputs": [
    {
     "name": "stdout",
     "output_type": "stream",
     "text": [
      "<class 'pandas.core.frame.DataFrame'>\n",
      "RangeIndex: 61273 entries, 0 to 61272\n",
      "Data columns (total 32 columns):\n",
      " #   Column                          Non-Null Count  Dtype  \n",
      "---  ------                          --------------  -----  \n",
      " 0   Unnamed: 0                      61273 non-null  int64  \n",
      " 1   hotel                           61273 non-null  object \n",
      " 2   lead_time                       61273 non-null  int64  \n",
      " 3   arrival_date_year               61273 non-null  int64  \n",
      " 4   arrival_date_month              61273 non-null  object \n",
      " 5   arrival_date_week_number        61273 non-null  int64  \n",
      " 6   arrival_date_day_of_month       61273 non-null  int64  \n",
      " 7   stays_in_weekend_nights         61273 non-null  int64  \n",
      " 8   stays_in_week_nights            61273 non-null  int64  \n",
      " 9   adults                          61273 non-null  int64  \n",
      " 10  children                        61273 non-null  float64\n",
      " 11  babies                          61273 non-null  int64  \n",
      " 12  meal                            61273 non-null  object \n",
      " 13  country                         61273 non-null  object \n",
      " 14  market_segment                  61273 non-null  object \n",
      " 15  distribution_channel            61273 non-null  object \n",
      " 16  is_repeated_guest               61273 non-null  int64  \n",
      " 17  previous_cancellations          61273 non-null  int64  \n",
      " 18  previous_bookings_not_canceled  61273 non-null  int64  \n",
      " 19  reserved_room_type              61273 non-null  object \n",
      " 20  assigned_room_type              61273 non-null  object \n",
      " 21  booking_changes                 61273 non-null  int64  \n",
      " 22  deposit_type                    61273 non-null  object \n",
      " 23  agent                           61273 non-null  float64\n",
      " 24  days_in_waiting_list            61273 non-null  int64  \n",
      " 25  customer_type                   61273 non-null  object \n",
      " 26  adr                             61273 non-null  float64\n",
      " 27  required_car_parking_spaces     61273 non-null  int64  \n",
      " 28  total_of_special_requests       61273 non-null  int64  \n",
      " 29  reservation_status_date         61273 non-null  object \n",
      " 30  id                              61273 non-null  object \n",
      " 31  is_canceled                     61273 non-null  int64  \n",
      "dtypes: float64(3), int64(17), object(12)\n",
      "memory usage: 15.0+ MB\n"
     ]
    }
   ],
   "source": [
    "df_hotel=df.copy()\n",
    "df_hotel.info()"
   ]
  },
  {
   "cell_type": "code",
   "execution_count": null,
   "metadata": {},
   "outputs": [],
   "source": []
  }
 ],
 "metadata": {
  "kernelspec": {
   "display_name": "base",
   "language": "python",
   "name": "python3"
  },
  "language_info": {
   "codemirror_mode": {
    "name": "ipython",
    "version": 3
   },
   "file_extension": ".py",
   "mimetype": "text/x-python",
   "name": "python",
   "nbconvert_exporter": "python",
   "pygments_lexer": "ipython3",
   "version": "3.8.8"
  },
  "orig_nbformat": 4
 },
 "nbformat": 4,
 "nbformat_minor": 2
}
