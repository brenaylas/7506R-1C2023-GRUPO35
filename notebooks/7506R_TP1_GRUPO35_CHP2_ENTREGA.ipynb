{
 "cells": [
  {
   "attachments": {},
   "cell_type": "markdown",
   "metadata": {},
   "source": [
    "### Cargando Data procesada"
   ]
  },
  {
   "cell_type": "code",
   "execution_count": 1,
   "metadata": {},
   "outputs": [],
   "source": [
    "import pandas as pd\n",
    "import numpy as np\n",
    "from category_encoders import BinaryEncoder, OneHotEncoder\n",
    "from sklearn.compose import ColumnTransformer\n",
    "from sklearn.model_selection import GridSearchCV\n",
    "from sklearn.pipeline import Pipeline\n",
    "from sklearn.tree import DecisionTreeClassifier\n",
    "\n",
    "pd.set_option('display.max_columns', None)"
   ]
  },
  {
   "cell_type": "code",
   "execution_count": 2,
   "metadata": {},
   "outputs": [],
   "source": [
    "hotels_train = pd.read_csv(\"../data/hotels_processed.csv\")\n",
    "\n",
    "x_train = hotels_train.drop(\"is_canceled\", axis=1)\n",
    "y_train = hotels_train.filter([\"is_canceled\"])\n",
    "\n",
    "x_test = pd.read_csv(\"../data/hotels_test.csv\")\n",
    "ids_test = x_test.filter([\"id\"])\n"
   ]
  },
  {
   "attachments": {},
   "cell_type": "markdown",
   "metadata": {},
   "source": [
    "Veamos los porcentajes de nulos"
   ]
  },
  {
   "cell_type": "code",
   "execution_count": 3,
   "metadata": {},
   "outputs": [
    {
     "name": "stdout",
     "output_type": "stream",
     "text": [
      "hotel                             0.0\n",
      "lead_time                         0.0\n",
      "arrival_date_year                 0.0\n",
      "arrival_date_month                0.0\n",
      "arrival_date_week_number          0.0\n",
      "arrival_date_day_of_month         0.0\n",
      "stays_in_weekend_nights           0.0\n",
      "stays_in_week_nights              0.0\n",
      "adults                            0.0\n",
      "children                          0.0\n",
      "babies                            0.0\n",
      "meal                              0.0\n",
      "country                           0.0\n",
      "market_segment                    0.0\n",
      "distribution_channel              0.0\n",
      "is_repeated_guest                 0.0\n",
      "previous_cancellations            0.0\n",
      "previous_bookings_not_canceled    0.0\n",
      "reserved_room_type                0.0\n",
      "assigned_room_type                0.0\n",
      "booking_changes                   0.0\n",
      "deposit_type                      0.0\n",
      "agent                             0.0\n",
      "days_in_waiting_list              0.0\n",
      "customer_type                     0.0\n",
      "adr                               0.0\n",
      "required_car_parking_spaces       0.0\n",
      "total_of_special_requests         0.0\n",
      "reservation_status_date           0.0\n",
      "id                                0.0\n",
      "is_canceled                       0.0\n",
      "dtype: float64\n"
     ]
    }
   ],
   "source": [
    "filas_totales=hotels_train.shape[0]\n",
    "print(hotels_train.isna().sum()/filas_totales*100)"
   ]
  },
  {
   "attachments": {},
   "cell_type": "markdown",
   "metadata": {},
   "source": [
    "### Armando pipeline"
   ]
  },
  {
   "cell_type": "code",
   "execution_count": 4,
   "metadata": {},
   "outputs": [],
   "source": [
    "one_hot_encoder_cols = [\n",
    "  'hotel',\n",
    "  'arrival_date_month',\n",
    "  'meal',\n",
    "  'market_segment',\n",
    "  'distribution_channel',\n",
    "  'reserved_room_type',\n",
    "  'assigned_room_type',\n",
    "  'deposit_type',\n",
    "  'customer_type',\n",
    "  'is_repeated_guest'\n",
    "]\n",
    "\n",
    "binary_encoder_cols = [\n",
    "  'country',\n",
    "  'agent'\n",
    "]\n",
    "\n",
    "ignored_cols = [\n",
    "  \"reservation_status_date\",\n",
    "  \"id\",\n",
    "  \"company\",\n",
    "]\n",
    "\n",
    "# TODO: Incluir en el Column Transformer\n",
    "def drop_cols(df: pd.DataFrame, cols: list[str]) -> pd.DataFrame:\n",
    "  return df.drop(cols, axis=1, errors=\"ignore\")\n",
    "\n",
    "x_train = drop_cols(x_train, ignored_cols)\n",
    "x_test = drop_cols(x_test, ignored_cols)\n",
    "\n",
    "column_trans = ColumnTransformer(\n",
    "  transformers=(\n",
    "    (\"binary_encoder\", BinaryEncoder(cols=binary_encoder_cols), binary_encoder_cols),\n",
    "    (\"one_hot_encoder\", OneHotEncoder(cols=one_hot_encoder_cols), one_hot_encoder_cols)\n",
    "  ),\n",
    "  remainder=\"passthrough\"\n",
    ")\n",
    "\n",
    "pipeline = Pipeline(\n",
    "  steps=[\n",
    "    (\"transformer\", column_trans),\n",
    "    (\"model\", DecisionTreeClassifier())\n",
    "  ])\n"
   ]
  },
  {
   "attachments": {},
   "cell_type": "markdown",
   "metadata": {},
   "source": [
    "### Buscando hiperparametros"
   ]
  },
  {
   "cell_type": "code",
   "execution_count": 5,
   "metadata": {},
   "outputs": [
    {
     "name": "stdout",
     "output_type": "stream",
     "text": [
      "Best params: {'model__criterion': 'entropy', 'model__max_depth': 20, 'model__min_samples_leaf': 10}\n",
      "F1 score: 0.842642343431401\n"
     ]
    }
   ],
   "source": [
    "params = {\n",
    "  # 'model__criterion':['gini', 'entropy'],\n",
    "  'model__criterion':['entropy'],\n",
    "  # 'model__min_samples_leaf':[10, 15, 20],\n",
    "  'model__min_samples_leaf':[10],\n",
    "  # 'min_samples_split': list(range(2,20)),\n",
    "  # 'model__ccp_alpha':np.linspace(0,0.05, 20),\n",
    "  'model__max_depth':list(range(20, 51, 5))\n",
    "}\n",
    "\n",
    "grid_search = GridSearchCV(\n",
    "  estimator=pipeline,\n",
    "  param_grid=params,\n",
    "  scoring=\"f1\",\n",
    "  n_jobs=-1,\n",
    "  cv=5\n",
    ")\n",
    "\n",
    "grid_search.fit(x_train, y_train)\n",
    "\n",
    "print(f\"Best params: {grid_search.best_params_}\")\n",
    "print(f\"F1 score: {grid_search.best_score_}\")"
   ]
  },
  {
   "cell_type": "code",
   "execution_count": 6,
   "metadata": {},
   "outputs": [
    {
     "data": {
      "text/html": [
       "<style>#sk-container-id-1 {color: black;background-color: white;}#sk-container-id-1 pre{padding: 0;}#sk-container-id-1 div.sk-toggleable {background-color: white;}#sk-container-id-1 label.sk-toggleable__label {cursor: pointer;display: block;width: 100%;margin-bottom: 0;padding: 0.3em;box-sizing: border-box;text-align: center;}#sk-container-id-1 label.sk-toggleable__label-arrow:before {content: \"▸\";float: left;margin-right: 0.25em;color: #696969;}#sk-container-id-1 label.sk-toggleable__label-arrow:hover:before {color: black;}#sk-container-id-1 div.sk-estimator:hover label.sk-toggleable__label-arrow:before {color: black;}#sk-container-id-1 div.sk-toggleable__content {max-height: 0;max-width: 0;overflow: hidden;text-align: left;background-color: #f0f8ff;}#sk-container-id-1 div.sk-toggleable__content pre {margin: 0.2em;color: black;border-radius: 0.25em;background-color: #f0f8ff;}#sk-container-id-1 input.sk-toggleable__control:checked~div.sk-toggleable__content {max-height: 200px;max-width: 100%;overflow: auto;}#sk-container-id-1 input.sk-toggleable__control:checked~label.sk-toggleable__label-arrow:before {content: \"▾\";}#sk-container-id-1 div.sk-estimator input.sk-toggleable__control:checked~label.sk-toggleable__label {background-color: #d4ebff;}#sk-container-id-1 div.sk-label input.sk-toggleable__control:checked~label.sk-toggleable__label {background-color: #d4ebff;}#sk-container-id-1 input.sk-hidden--visually {border: 0;clip: rect(1px 1px 1px 1px);clip: rect(1px, 1px, 1px, 1px);height: 1px;margin: -1px;overflow: hidden;padding: 0;position: absolute;width: 1px;}#sk-container-id-1 div.sk-estimator {font-family: monospace;background-color: #f0f8ff;border: 1px dotted black;border-radius: 0.25em;box-sizing: border-box;margin-bottom: 0.5em;}#sk-container-id-1 div.sk-estimator:hover {background-color: #d4ebff;}#sk-container-id-1 div.sk-parallel-item::after {content: \"\";width: 100%;border-bottom: 1px solid gray;flex-grow: 1;}#sk-container-id-1 div.sk-label:hover label.sk-toggleable__label {background-color: #d4ebff;}#sk-container-id-1 div.sk-serial::before {content: \"\";position: absolute;border-left: 1px solid gray;box-sizing: border-box;top: 0;bottom: 0;left: 50%;z-index: 0;}#sk-container-id-1 div.sk-serial {display: flex;flex-direction: column;align-items: center;background-color: white;padding-right: 0.2em;padding-left: 0.2em;position: relative;}#sk-container-id-1 div.sk-item {position: relative;z-index: 1;}#sk-container-id-1 div.sk-parallel {display: flex;align-items: stretch;justify-content: center;background-color: white;position: relative;}#sk-container-id-1 div.sk-item::before, #sk-container-id-1 div.sk-parallel-item::before {content: \"\";position: absolute;border-left: 1px solid gray;box-sizing: border-box;top: 0;bottom: 0;left: 50%;z-index: -1;}#sk-container-id-1 div.sk-parallel-item {display: flex;flex-direction: column;z-index: 1;position: relative;background-color: white;}#sk-container-id-1 div.sk-parallel-item:first-child::after {align-self: flex-end;width: 50%;}#sk-container-id-1 div.sk-parallel-item:last-child::after {align-self: flex-start;width: 50%;}#sk-container-id-1 div.sk-parallel-item:only-child::after {width: 0;}#sk-container-id-1 div.sk-dashed-wrapped {border: 1px dashed gray;margin: 0 0.4em 0.5em 0.4em;box-sizing: border-box;padding-bottom: 0.4em;background-color: white;}#sk-container-id-1 div.sk-label label {font-family: monospace;font-weight: bold;display: inline-block;line-height: 1.2em;}#sk-container-id-1 div.sk-label-container {text-align: center;}#sk-container-id-1 div.sk-container {/* jupyter's `normalize.less` sets `[hidden] { display: none; }` but bootstrap.min.css set `[hidden] { display: none !important; }` so we also need the `!important` here to be able to override the default hidden behavior on the sphinx rendered scikit-learn.org. See: https://github.com/scikit-learn/scikit-learn/issues/21755 */display: inline-block !important;position: relative;}#sk-container-id-1 div.sk-text-repr-fallback {display: none;}</style><div id=\"sk-container-id-1\" class=\"sk-top-container\"><div class=\"sk-text-repr-fallback\"><pre>Pipeline(steps=[(&#x27;transformer&#x27;,\n",
       "                 ColumnTransformer(remainder=&#x27;passthrough&#x27;,\n",
       "                                   transformers=((&#x27;binary_encoder&#x27;,\n",
       "                                                  BinaryEncoder(cols=[&#x27;country&#x27;,\n",
       "                                                                      &#x27;agent&#x27;]),\n",
       "                                                  [&#x27;country&#x27;, &#x27;agent&#x27;]),\n",
       "                                                 (&#x27;one_hot_encoder&#x27;,\n",
       "                                                  OneHotEncoder(cols=[&#x27;hotel&#x27;,\n",
       "                                                                      &#x27;arrival_date_month&#x27;,\n",
       "                                                                      &#x27;meal&#x27;,\n",
       "                                                                      &#x27;market_segment&#x27;,\n",
       "                                                                      &#x27;distribution_channel&#x27;,\n",
       "                                                                      &#x27;reserved_room_type&#x27;,\n",
       "                                                                      &#x27;assigned_room_type&#x27;,\n",
       "                                                                      &#x27;deposit_type&#x27;,\n",
       "                                                                      &#x27;customer_type&#x27;,\n",
       "                                                                      &#x27;is_repeated_guest&#x27;]),\n",
       "                                                  [&#x27;hotel&#x27;,\n",
       "                                                   &#x27;arrival_date_month&#x27;, &#x27;meal&#x27;,\n",
       "                                                   &#x27;market_segment&#x27;,\n",
       "                                                   &#x27;distribution_channel&#x27;,\n",
       "                                                   &#x27;reserved_room_type&#x27;,\n",
       "                                                   &#x27;assigned_room_type&#x27;,\n",
       "                                                   &#x27;deposit_type&#x27;,\n",
       "                                                   &#x27;customer_type&#x27;,\n",
       "                                                   &#x27;is_repeated_guest&#x27;])))),\n",
       "                (&#x27;model&#x27;,\n",
       "                 DecisionTreeClassifier(criterion=&#x27;entropy&#x27;, max_depth=20,\n",
       "                                        min_samples_leaf=10))])</pre><b>In a Jupyter environment, please rerun this cell to show the HTML representation or trust the notebook. <br />On GitHub, the HTML representation is unable to render, please try loading this page with nbviewer.org.</b></div><div class=\"sk-container\" hidden><div class=\"sk-item sk-dashed-wrapped\"><div class=\"sk-label-container\"><div class=\"sk-label sk-toggleable\"><input class=\"sk-toggleable__control sk-hidden--visually\" id=\"sk-estimator-id-1\" type=\"checkbox\" ><label for=\"sk-estimator-id-1\" class=\"sk-toggleable__label sk-toggleable__label-arrow\">Pipeline</label><div class=\"sk-toggleable__content\"><pre>Pipeline(steps=[(&#x27;transformer&#x27;,\n",
       "                 ColumnTransformer(remainder=&#x27;passthrough&#x27;,\n",
       "                                   transformers=((&#x27;binary_encoder&#x27;,\n",
       "                                                  BinaryEncoder(cols=[&#x27;country&#x27;,\n",
       "                                                                      &#x27;agent&#x27;]),\n",
       "                                                  [&#x27;country&#x27;, &#x27;agent&#x27;]),\n",
       "                                                 (&#x27;one_hot_encoder&#x27;,\n",
       "                                                  OneHotEncoder(cols=[&#x27;hotel&#x27;,\n",
       "                                                                      &#x27;arrival_date_month&#x27;,\n",
       "                                                                      &#x27;meal&#x27;,\n",
       "                                                                      &#x27;market_segment&#x27;,\n",
       "                                                                      &#x27;distribution_channel&#x27;,\n",
       "                                                                      &#x27;reserved_room_type&#x27;,\n",
       "                                                                      &#x27;assigned_room_type&#x27;,\n",
       "                                                                      &#x27;deposit_type&#x27;,\n",
       "                                                                      &#x27;customer_type&#x27;,\n",
       "                                                                      &#x27;is_repeated_guest&#x27;]),\n",
       "                                                  [&#x27;hotel&#x27;,\n",
       "                                                   &#x27;arrival_date_month&#x27;, &#x27;meal&#x27;,\n",
       "                                                   &#x27;market_segment&#x27;,\n",
       "                                                   &#x27;distribution_channel&#x27;,\n",
       "                                                   &#x27;reserved_room_type&#x27;,\n",
       "                                                   &#x27;assigned_room_type&#x27;,\n",
       "                                                   &#x27;deposit_type&#x27;,\n",
       "                                                   &#x27;customer_type&#x27;,\n",
       "                                                   &#x27;is_repeated_guest&#x27;])))),\n",
       "                (&#x27;model&#x27;,\n",
       "                 DecisionTreeClassifier(criterion=&#x27;entropy&#x27;, max_depth=20,\n",
       "                                        min_samples_leaf=10))])</pre></div></div></div><div class=\"sk-serial\"><div class=\"sk-item sk-dashed-wrapped\"><div class=\"sk-label-container\"><div class=\"sk-label sk-toggleable\"><input class=\"sk-toggleable__control sk-hidden--visually\" id=\"sk-estimator-id-2\" type=\"checkbox\" ><label for=\"sk-estimator-id-2\" class=\"sk-toggleable__label sk-toggleable__label-arrow\">transformer: ColumnTransformer</label><div class=\"sk-toggleable__content\"><pre>ColumnTransformer(remainder=&#x27;passthrough&#x27;,\n",
       "                  transformers=((&#x27;binary_encoder&#x27;,\n",
       "                                 BinaryEncoder(cols=[&#x27;country&#x27;, &#x27;agent&#x27;]),\n",
       "                                 [&#x27;country&#x27;, &#x27;agent&#x27;]),\n",
       "                                (&#x27;one_hot_encoder&#x27;,\n",
       "                                 OneHotEncoder(cols=[&#x27;hotel&#x27;,\n",
       "                                                     &#x27;arrival_date_month&#x27;,\n",
       "                                                     &#x27;meal&#x27;, &#x27;market_segment&#x27;,\n",
       "                                                     &#x27;distribution_channel&#x27;,\n",
       "                                                     &#x27;reserved_room_type&#x27;,\n",
       "                                                     &#x27;assigned_room_type&#x27;,\n",
       "                                                     &#x27;deposit_type&#x27;,\n",
       "                                                     &#x27;customer_type&#x27;,\n",
       "                                                     &#x27;is_repeated_guest&#x27;]),\n",
       "                                 [&#x27;hotel&#x27;, &#x27;arrival_date_month&#x27;, &#x27;meal&#x27;,\n",
       "                                  &#x27;market_segment&#x27;, &#x27;distribution_channel&#x27;,\n",
       "                                  &#x27;reserved_room_type&#x27;, &#x27;assigned_room_type&#x27;,\n",
       "                                  &#x27;deposit_type&#x27;, &#x27;customer_type&#x27;,\n",
       "                                  &#x27;is_repeated_guest&#x27;])))</pre></div></div></div><div class=\"sk-parallel\"><div class=\"sk-parallel-item\"><div class=\"sk-item\"><div class=\"sk-label-container\"><div class=\"sk-label sk-toggleable\"><input class=\"sk-toggleable__control sk-hidden--visually\" id=\"sk-estimator-id-3\" type=\"checkbox\" ><label for=\"sk-estimator-id-3\" class=\"sk-toggleable__label sk-toggleable__label-arrow\">binary_encoder</label><div class=\"sk-toggleable__content\"><pre>[&#x27;country&#x27;, &#x27;agent&#x27;]</pre></div></div></div><div class=\"sk-serial\"><div class=\"sk-item\"><div class=\"sk-estimator sk-toggleable\"><input class=\"sk-toggleable__control sk-hidden--visually\" id=\"sk-estimator-id-4\" type=\"checkbox\" ><label for=\"sk-estimator-id-4\" class=\"sk-toggleable__label sk-toggleable__label-arrow\">BinaryEncoder</label><div class=\"sk-toggleable__content\"><pre>BinaryEncoder(cols=[&#x27;country&#x27;, &#x27;agent&#x27;])</pre></div></div></div></div></div></div><div class=\"sk-parallel-item\"><div class=\"sk-item\"><div class=\"sk-label-container\"><div class=\"sk-label sk-toggleable\"><input class=\"sk-toggleable__control sk-hidden--visually\" id=\"sk-estimator-id-5\" type=\"checkbox\" ><label for=\"sk-estimator-id-5\" class=\"sk-toggleable__label sk-toggleable__label-arrow\">one_hot_encoder</label><div class=\"sk-toggleable__content\"><pre>[&#x27;hotel&#x27;, &#x27;arrival_date_month&#x27;, &#x27;meal&#x27;, &#x27;market_segment&#x27;, &#x27;distribution_channel&#x27;, &#x27;reserved_room_type&#x27;, &#x27;assigned_room_type&#x27;, &#x27;deposit_type&#x27;, &#x27;customer_type&#x27;, &#x27;is_repeated_guest&#x27;]</pre></div></div></div><div class=\"sk-serial\"><div class=\"sk-item\"><div class=\"sk-estimator sk-toggleable\"><input class=\"sk-toggleable__control sk-hidden--visually\" id=\"sk-estimator-id-6\" type=\"checkbox\" ><label for=\"sk-estimator-id-6\" class=\"sk-toggleable__label sk-toggleable__label-arrow\">OneHotEncoder</label><div class=\"sk-toggleable__content\"><pre>OneHotEncoder(cols=[&#x27;hotel&#x27;, &#x27;arrival_date_month&#x27;, &#x27;meal&#x27;, &#x27;market_segment&#x27;,\n",
       "                    &#x27;distribution_channel&#x27;, &#x27;reserved_room_type&#x27;,\n",
       "                    &#x27;assigned_room_type&#x27;, &#x27;deposit_type&#x27;, &#x27;customer_type&#x27;,\n",
       "                    &#x27;is_repeated_guest&#x27;])</pre></div></div></div></div></div></div><div class=\"sk-parallel-item\"><div class=\"sk-item\"><div class=\"sk-label-container\"><div class=\"sk-label sk-toggleable\"><input class=\"sk-toggleable__control sk-hidden--visually\" id=\"sk-estimator-id-7\" type=\"checkbox\" ><label for=\"sk-estimator-id-7\" class=\"sk-toggleable__label sk-toggleable__label-arrow\">remainder</label><div class=\"sk-toggleable__content\"><pre>[&#x27;lead_time&#x27;, &#x27;arrival_date_year&#x27;, &#x27;arrival_date_week_number&#x27;, &#x27;arrival_date_day_of_month&#x27;, &#x27;stays_in_weekend_nights&#x27;, &#x27;stays_in_week_nights&#x27;, &#x27;adults&#x27;, &#x27;children&#x27;, &#x27;babies&#x27;, &#x27;previous_cancellations&#x27;, &#x27;previous_bookings_not_canceled&#x27;, &#x27;booking_changes&#x27;, &#x27;days_in_waiting_list&#x27;, &#x27;adr&#x27;, &#x27;required_car_parking_spaces&#x27;, &#x27;total_of_special_requests&#x27;]</pre></div></div></div><div class=\"sk-serial\"><div class=\"sk-item\"><div class=\"sk-estimator sk-toggleable\"><input class=\"sk-toggleable__control sk-hidden--visually\" id=\"sk-estimator-id-8\" type=\"checkbox\" ><label for=\"sk-estimator-id-8\" class=\"sk-toggleable__label sk-toggleable__label-arrow\">passthrough</label><div class=\"sk-toggleable__content\"><pre>passthrough</pre></div></div></div></div></div></div></div></div><div class=\"sk-item\"><div class=\"sk-estimator sk-toggleable\"><input class=\"sk-toggleable__control sk-hidden--visually\" id=\"sk-estimator-id-9\" type=\"checkbox\" ><label for=\"sk-estimator-id-9\" class=\"sk-toggleable__label sk-toggleable__label-arrow\">DecisionTreeClassifier</label><div class=\"sk-toggleable__content\"><pre>DecisionTreeClassifier(criterion=&#x27;entropy&#x27;, max_depth=20, min_samples_leaf=10)</pre></div></div></div></div></div></div></div>"
      ],
      "text/plain": [
       "Pipeline(steps=[('transformer',\n",
       "                 ColumnTransformer(remainder='passthrough',\n",
       "                                   transformers=(('binary_encoder',\n",
       "                                                  BinaryEncoder(cols=['country',\n",
       "                                                                      'agent']),\n",
       "                                                  ['country', 'agent']),\n",
       "                                                 ('one_hot_encoder',\n",
       "                                                  OneHotEncoder(cols=['hotel',\n",
       "                                                                      'arrival_date_month',\n",
       "                                                                      'meal',\n",
       "                                                                      'market_segment',\n",
       "                                                                      'distribution_channel',\n",
       "                                                                      'reserved_room_type',\n",
       "                                                                      'assigned_room_type',\n",
       "                                                                      'deposit_type',\n",
       "                                                                      'customer_type',\n",
       "                                                                      'is_repeated_guest']),\n",
       "                                                  ['hotel',\n",
       "                                                   'arrival_date_month', 'meal',\n",
       "                                                   'market_segment',\n",
       "                                                   'distribution_channel',\n",
       "                                                   'reserved_room_type',\n",
       "                                                   'assigned_room_type',\n",
       "                                                   'deposit_type',\n",
       "                                                   'customer_type',\n",
       "                                                   'is_repeated_guest'])))),\n",
       "                ('model',\n",
       "                 DecisionTreeClassifier(criterion='entropy', max_depth=20,\n",
       "                                        min_samples_leaf=10))])"
      ]
     },
     "execution_count": 6,
     "metadata": {},
     "output_type": "execute_result"
    }
   ],
   "source": [
    "pipeline.set_params(**grid_search.best_params_)\n",
    "pipeline.fit(x_train, y_train)"
   ]
  },
  {
   "attachments": {},
   "cell_type": "markdown",
   "metadata": {},
   "source": [
    "### Predict and save"
   ]
  },
  {
   "cell_type": "code",
   "execution_count": 7,
   "metadata": {},
   "outputs": [],
   "source": [
    "y_predict = pipeline.predict(x_test)\n",
    "ids_test[\"is_canceled\"] = y_predict\n",
    "ids_test.to_csv(\"result.002.csv\", index=False)"
   ]
  }
 ],
 "metadata": {
  "kernelspec": {
   "display_name": "base",
   "language": "python",
   "name": "python3"
  },
  "language_info": {
   "codemirror_mode": {
    "name": "ipython",
    "version": 3
   },
   "file_extension": ".py",
   "mimetype": "text/x-python",
   "name": "python",
   "nbconvert_exporter": "python",
   "pygments_lexer": "ipython3",
   "version": "3.10.10"
  },
  "orig_nbformat": 4
 },
 "nbformat": 4,
 "nbformat_minor": 2
}
