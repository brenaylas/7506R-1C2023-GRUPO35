{
 "cells": [
  {
   "attachments": {},
   "cell_type": "markdown",
   "metadata": {},
   "source": [
    "### Cargando Data procesada"
   ]
  },
  {
   "cell_type": "code",
   "execution_count": 7,
   "metadata": {},
   "outputs": [],
   "source": [
    "import io\n",
    "import pandas as pd"
   ]
  },
  {
   "cell_type": "code",
   "execution_count": 8,
   "metadata": {},
   "outputs": [],
   "source": [
    "path= \"../data/hotels_processed.csv\"\n",
    "df = pd.read_csv(path)\n",
    "df_hotel=df.copy()"
   ]
  },
  {
   "attachments": {},
   "cell_type": "markdown",
   "metadata": {},
   "source": [
    "Veamos los porcentajes de nulos"
   ]
  },
  {
   "cell_type": "code",
   "execution_count": 9,
   "metadata": {},
   "outputs": [
    {
     "name": "stdout",
     "output_type": "stream",
     "text": [
      "Unnamed: 0                        0.0\n",
      "hotel                             0.0\n",
      "lead_time                         0.0\n",
      "arrival_date_year                 0.0\n",
      "arrival_date_month                0.0\n",
      "arrival_date_week_number          0.0\n",
      "arrival_date_day_of_month         0.0\n",
      "stays_in_weekend_nights           0.0\n",
      "stays_in_week_nights              0.0\n",
      "adults                            0.0\n",
      "children                          0.0\n",
      "babies                            0.0\n",
      "meal                              0.0\n",
      "country                           0.0\n",
      "market_segment                    0.0\n",
      "distribution_channel              0.0\n",
      "is_repeated_guest                 0.0\n",
      "previous_cancellations            0.0\n",
      "previous_bookings_not_canceled    0.0\n",
      "reserved_room_type                0.0\n",
      "assigned_room_type                0.0\n",
      "booking_changes                   0.0\n",
      "deposit_type                      0.0\n",
      "agent                             0.0\n",
      "days_in_waiting_list              0.0\n",
      "customer_type                     0.0\n",
      "adr                               0.0\n",
      "required_car_parking_spaces       0.0\n",
      "total_of_special_requests         0.0\n",
      "reservation_status_date           0.0\n",
      "id                                0.0\n",
      "is_canceled                       0.0\n",
      "dtype: float64\n"
     ]
    }
   ],
   "source": [
    "filas_totales=df_hotel.shape[0]\n",
    "print(df_hotel.isna().sum()/filas_totales*100)"
   ]
  },
  {
   "cell_type": "code",
   "execution_count": 10,
   "metadata": {},
   "outputs": [
    {
     "data": {
      "text/plain": [
       "(61273, 32)"
      ]
     },
     "execution_count": 10,
     "metadata": {},
     "output_type": "execute_result"
    }
   ],
   "source": [
    "df_hotel.shape"
   ]
  },
  {
   "cell_type": "code",
   "execution_count": null,
   "metadata": {},
   "outputs": [],
   "source": []
  }
 ],
 "metadata": {
  "kernelspec": {
   "display_name": "base",
   "language": "python",
   "name": "python3"
  },
  "language_info": {
   "codemirror_mode": {
    "name": "ipython",
    "version": 3
   },
   "file_extension": ".py",
   "mimetype": "text/x-python",
   "name": "python",
   "nbconvert_exporter": "python",
   "pygments_lexer": "ipython3",
   "version": "3.8.8"
  },
  "orig_nbformat": 4
 },
 "nbformat": 4,
 "nbformat_minor": 2
}
